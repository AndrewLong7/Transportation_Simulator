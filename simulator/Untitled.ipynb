{
 "cells": [
  {
   "cell_type": "code",
   "execution_count": 4,
   "id": "50ae01ae",
   "metadata": {},
   "outputs": [],
   "source": [
    "import osmnx as ox\n",
    "\n",
    "env_params = {\n",
    "'north_lat': 40.8845,\n",
    "'south_lat': 40.6968,\n",
    "'east_lng': -74.0831,\n",
    "'west_lng': -73.8414\n",
    "}\n",
    "\n",
    "G = ox.graph_from_bbox(env_params['north_lat'], env_params['south_lat'], env_params['east_lng']\n",
    "                       , env_params['west_lng'], network_type='drive')\n",
    "\n",
    "gdf_nodes, gdf_edges = ox.graph_to_gdfs(G)"
   ]
  },
  {
   "cell_type": "code",
   "execution_count": 22,
   "id": "a9fb7520",
   "metadata": {},
   "outputs": [],
   "source": [
    "x = ox.distance.shortest_path(G, 42436788,42433298,weight='length', cpus=16)"
   ]
  },
  {
   "cell_type": "code",
   "execution_count": 23,
   "id": "4ec569cd",
   "metadata": {},
   "outputs": [
    {
     "data": {
      "text/plain": [
       "[42436788,\n",
       " 1919595918,\n",
       " 5799117240,\n",
       " 42448558,\n",
       " 1692433928,\n",
       " 42440553,\n",
       " 42452396,\n",
       " 42433587,\n",
       " 42449817,\n",
       " 42433298]"
      ]
     },
     "execution_count": 23,
     "metadata": {},
     "output_type": "execute_result"
    }
   ],
   "source": [
    "x"
   ]
  },
  {
   "cell_type": "code",
   "execution_count": 15,
   "id": "89a0e0f1",
   "metadata": {},
   "outputs": [],
   "source": [
    "def distance(coord_1, coord_2):\n",
    "    lon1, lat1 = coord_1\n",
    "    lon2, lat2 = coord_2\n",
    "    lon1, lat1, lon2, lat2 = map(radians, [lon1, lat1, lon2, lat2])\n",
    "    dlon = abs(lon2 - lon1)\n",
    "    dlat = abs(lat2 - lat1)\n",
    "    r = 6371\n",
    "\n",
    "    alat = sin(dlat / 2) ** 2\n",
    "    clat = 2 * atan2(alat ** 0.5, (1 - alat) ** 0.5)\n",
    "    lat_dis = clat * r\n",
    "\n",
    "    alon = sin(dlon / 2) ** 2\n",
    "    clon = 2 * atan2(alon ** 0.5, (1 - alon) ** 0.5)\n",
    "    lon_dis = clon * r\n",
    "\n",
    "    manhattan_dis = abs(lat_dis) + abs(lon_dis)\n",
    "\n",
    "    return manhattan_dis"
   ]
  },
  {
   "cell_type": "code",
   "execution_count": 18,
   "id": "72087470",
   "metadata": {},
   "outputs": [
    {
     "data": {
      "text/plain": [
       "18.641017728995955"
      ]
     },
     "execution_count": 18,
     "metadata": {},
     "output_type": "execute_result"
    }
   ],
   "source": [
    "from math import radians, sin, atan2\n",
    "distance((40.7273529, -74.0005803),(40.8841442, -73.9897289))"
   ]
  },
  {
   "cell_type": "code",
   "execution_count": 19,
   "id": "9391355a",
   "metadata": {},
   "outputs": [],
   "source": [
    "lat_list = gdf_nodes['y'].tolist()\n",
    "lng_list = gdf_nodes['x'].tolist()\n",
    "node_id = gdf_nodes.index.tolist()\n",
    "node_id_to_lat_lng = {}\n",
    "node_coord_to_id = {}\n",
    "for i in range(len(lat_list)):\n",
    "    node_id_to_lat_lng[node_id[i]] = (lat_list[i], lng_list[i])"
   ]
  },
  {
   "cell_type": "code",
   "execution_count": 21,
   "id": "11536e14",
   "metadata": {},
   "outputs": [
    {
     "data": {
      "text/plain": [
       "(40.8841442, -73.9897289)"
      ]
     },
     "execution_count": 21,
     "metadata": {},
     "output_type": "execute_result"
    }
   ],
   "source": []
  },
  {
   "cell_type": "code",
   "execution_count": null,
   "id": "c6d51356",
   "metadata": {},
   "outputs": [],
   "source": []
  }
 ],
 "metadata": {
  "kernelspec": {
   "display_name": "Python 3 (ipykernel)",
   "language": "python",
   "name": "python3"
  },
  "language_info": {
   "codemirror_mode": {
    "name": "ipython",
    "version": 3
   },
   "file_extension": ".py",
   "mimetype": "text/x-python",
   "name": "python",
   "nbconvert_exporter": "python",
   "pygments_lexer": "ipython3",
   "version": "3.7.11"
  }
 },
 "nbformat": 4,
 "nbformat_minor": 5
}
